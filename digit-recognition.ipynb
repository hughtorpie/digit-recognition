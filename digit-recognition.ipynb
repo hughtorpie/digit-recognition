{
 "cells": [
  {
   "cell_type": "code",
   "execution_count": 1,
   "id": "1f33e580-26e6-4fe4-82dd-4ddc60c9d6f9",
   "metadata": {},
   "outputs": [],
   "source": [
    "import torch\n",
    "import torch.nn as nn\n",
    "import torch.optim as optim\n",
    "from torch.nn.modules.loss import CrossEntropyLoss\n",
    "from torch.utils.data import Dataset, DataLoader\n",
    "from torchvision.datasets import MNIST\n",
    "from torchvision.transforms import ToTensor"
   ]
  },
  {
   "cell_type": "code",
   "execution_count": 2,
   "id": "ef41bdd4-2305-4a61-b268-09d4aa2258eb",
   "metadata": {},
   "outputs": [],
   "source": [
    "# load data\n",
    "mnist_tr = MNIST('~/.torchvision', train=True, download=True, transform=ToTensor())\n",
    "mnist_ts = MNIST('~/.torchvision', train=False, download=True, transform=ToTensor())"
   ]
  },
  {
   "cell_type": "code",
   "execution_count": 3,
   "id": "8f03ff44-4e52-4ba5-bea8-7a6bff7ad504",
   "metadata": {},
   "outputs": [
    {
     "data": {
      "image/png": "[encoded data removed]",
      "text/plain": [
       "<Figure size 640x480 with 1 Axes>"
      ]
     },
     "metadata": {},
     "output_type": "display_data"
    }
   ],
   "source": [
    "import matplotlib.pyplot as plt\n",
    "\n",
    "first_image, first_label = mnist_tr[5]\n",
    "image_to_plot = first_image.squeeze().numpy()\n",
    "plt.imshow(image_to_plot, cmap='gray')\n",
    "plt.title(f\"Label: {first_label}\")\n",
    "plt.show()"
   ]
  },
  {
   "cell_type": "code",
   "execution_count": 4,
   "id": "777399d2-d78d-470e-8741-ca3dc5b9e9eb",
   "metadata": {},
   "outputs": [
    {
     "name": "stdout",
     "output_type": "stream",
     "text": [
      "training...\n",
      "Epoch   0:   0.000003\n",
      "Epoch   1:   0.000001\n",
      "Epoch   2:   0.000001\n"
     ]
    }
   ],
   "source": [
    "torch.manual_seed(42)\n",
    "\n",
    "# define CNN\n",
    "net = nn.Sequential(nn.Conv2d(1, 6, 5), nn.ReLU(),\n",
    "                    nn.MaxPool2d(2),\n",
    "                    nn.Conv2d(6, 16, 5), nn.ReLU(),\n",
    "                    nn.MaxPool2d(2), nn.Flatten(),\n",
    "                    nn.Linear(256, 120), nn.ReLU(),\n",
    "                    nn.Linear(120, 84), nn.ReLU(),\n",
    "                    nn.Linear(84, 10))\n",
    "\n",
    "# specify the optimization algorithm\n",
    "optimizer = optim.SGD(net.parameters(), lr=0.1)\n",
    "\n",
    "# define the loss function\n",
    "ce = CrossEntropyLoss()\n",
    "\n",
    "# use a dataloader for sampling mini-batches\n",
    "trainloader = DataLoader(mnist_tr, batch_size=100, shuffle=True)\n",
    "\n",
    "# train\n",
    "print('training...')\n",
    "nepochs = 3\n",
    "for epoch in range(nepochs):\n",
    "    total_loss = 0\n",
    "    nbatches = 0\n",
    "    for i, (X_batch, y_batch) in enumerate(trainloader):\n",
    "        optimizer.zero_grad()\n",
    "        loss = ce(net(X_batch), y_batch)\n",
    "        loss.backward()\n",
    "        optimizer.step()\n",
    "\n",
    "    total_loss += float(loss)\n",
    "\n",
    "    print(\"Epoch %3d: %10f\" % (epoch, total_loss/60000))"
   ]
  },
  {
   "cell_type": "code",
   "execution_count": 5,
   "id": "401fdf3c-a6ff-4d01-9c96-34acafdafb90",
   "metadata": {},
   "outputs": [
    {
     "name": "stdout",
     "output_type": "stream",
     "text": [
      "Test accuracy: tensor(0.9828)\n"
     ]
    }
   ],
   "source": [
    "testloader = DataLoader(mnist_ts, batch_size=100, shuffle=False)\n",
    "\n",
    "with torch.no_grad():\n",
    "    y_hat = []\n",
    "    for i, (X_batch, y_batch) in enumerate(testloader):\n",
    "        y_hat.append(net(X_batch).argmax(axis=1))\n",
    "\n",
    "    y_hat = torch.concat(y_hat)\n",
    "\n",
    "print('Test accuracy:', (y_hat == mnist_ts.targets).float().mean())"
   ]
  },
  {
   "cell_type": "code",
   "execution_count": 10,
   "id": "f23f5d63-bd6e-4fd7-a69f-2682c5f14467",
   "metadata": {},
   "outputs": [],
   "source": [
    "import PIL\n",
    "from PIL import Image\n",
    "import gradio as gr\n",
    "from torchvision import datasets, transforms"
   ]
  },
  {
   "cell_type": "code",
   "execution_count": 15,
   "id": "9505a831-f45e-4efe-8ce2-acb2b4d4e7e1",
   "metadata": {},
   "outputs": [],
   "source": [
    "transform = transforms.Compose([\n",
    "    transforms.Grayscale(),\n",
    "    transforms.Resize((28, 28)),\n",
    "    transforms.ToTensor(),\n",
    "    transforms.RandomInvert(1),\n",
    "    transforms.Normalize((0.1307,), (0.3081,)) # EXPLORE THIS\n",
    "])"
   ]
  },
  {
   "cell_type": "code",
   "execution_count": 54,
   "id": "ce5bf875-5981-470d-b2af-ff371cbe516c",
   "metadata": {},
   "outputs": [],
   "source": [
    "width, height = 560, 560\n",
    "\n",
    "def predict_digit(editor_value):\n",
    "    image = editor_value[\"composite\"]\n",
    "\n",
    "    background = Image.new('RGBA', image.size, 'WHITE')\n",
    "    image_with_white_bg = Image.composite(image, background, image)\n",
    "\n",
    "    transformed_image = transform(image_with_white_bg)\n",
    "\n",
    "    with torch.no_grad():\n",
    "        net.eval()\n",
    "        probs = net(transformed_image.unsqueeze(0)).softmax(axis=1)[0]\n",
    "        confidences = {str(i): float(prob) for i, prob in enumerate(probs)}\n",
    "        \n",
    "    return confidences"
   ]
  },
  {
   "cell_type": "code",
   "execution_count": 55,
   "id": "401bf178-fdac-4b74-b5fc-4f92970d6d7a",
   "metadata": {},
   "outputs": [],
   "source": [
    "import pandas as pd\n",
    "\n",
    "interface = gr.Interface(fn=predict_digit,\n",
    "                         inputs=gr.Sketchpad(type=\"pil\", width=width, height=height),\n",
    "                         outputs=\"label\")"
   ]
  },
  {
   "cell_type": "code",
   "execution_count": 57,
   "id": "0fb008f8-34d1-4078-ac2a-c5c7d8185645",
   "metadata": {},
   "outputs": [
    {
     "name": "stdout",
     "output_type": "stream",
     "text": [
      "Rerunning server... use `close()` to stop if you need to change `launch()` parameters.\n",
      "----\n",
      "* Running on public URL: https://45ccfbb512f4a6675b.gradio.live\n",
      "\n",
      "This share link expires in 72 hours. For free permanent hosting and GPU upgrades, run `gradio deploy` from the terminal in the working directory to deploy to Hugging Face Spaces (https://huggingface.co/spaces)\n"
     ]
    },
    {
     "data": {
      "text/html": [
       "<div><iframe src=\"https://45ccfbb512f4a6675b.gradio.live\" width=\"100%\" height=\"500\" allow=\"autoplay; camera; microphone; clipboard-read; clipboard-write;\" frameborder=\"0\" allowfullscreen></iframe></div>"
      ],
      "text/plain": [
       "<IPython.core.display.HTML object>"
      ]
     },
     "metadata": {},
     "output_type": "display_data"
    },
    {
     "data": {
      "text/plain": []
     },
     "execution_count": 57,
     "metadata": {},
     "output_type": "execute_result"
    }
   ],
   "source": [
    "interface.launch(share=True)"
   ]
  },
  {
   "cell_type": "code",
   "execution_count": null,
   "id": "1eb02108-1147-49d8-89e8-869dba496d96",
   "metadata": {},
   "outputs": [],
   "source": []
  }
 ],
 "metadata": {
  "kernelspec": {
   "display_name": "Python 3 (ipykernel)",
   "language": "python",
   "name": "python3"
  },
  "language_info": {
   "codemirror_mode": {
    "name": "ipython",
    "version": 3
   },
   "file_extension": ".py",
   "mimetype": "text/x-python",
   "name": "python",
   "nbconvert_exporter": "python",
   "pygments_lexer": "ipython3",
   "version": "3.12.6"
  }
 },
 "nbformat": 4,
 "nbformat_minor": 5
}
